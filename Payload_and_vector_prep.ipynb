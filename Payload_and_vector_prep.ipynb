{
  "nbformat": 4,
  "nbformat_minor": 0,
  "metadata": {
    "colab": {
      "provenance": [],
      "machine_shape": "hm",
      "gpuType": "T4",
      "mount_file_id": "1KMeQEXo9FBv9nViTNFj0tly8FdJEVZck",
      "authorship_tag": "ABX9TyO3ERNAmugaZVgnIhQPdR25",
      "include_colab_link": true
    },
    "kernelspec": {
      "name": "python3",
      "display_name": "Python 3"
    },
    "language_info": {
      "name": "python"
    },
    "accelerator": "GPU",
    "gpuClass": "standard",
    "widgets": {
      "application/vnd.jupyter.widget-state+json": {
        "a62175a1fb4f44ad85c309d59ea9f398": {
          "model_module": "@jupyter-widgets/controls",
          "model_name": "HBoxModel",
          "model_module_version": "1.5.0",
          "state": {
            "_dom_classes": [],
            "_model_module": "@jupyter-widgets/controls",
            "_model_module_version": "1.5.0",
            "_model_name": "HBoxModel",
            "_view_count": null,
            "_view_module": "@jupyter-widgets/controls",
            "_view_module_version": "1.5.0",
            "_view_name": "HBoxView",
            "box_style": "",
            "children": [
              "IPY_MODEL_ee5ad55d994a4515ade104bd009721e6",
              "IPY_MODEL_8f9fc4be913f4fbfb45032a0d9b9e177",
              "IPY_MODEL_b208aacfc3a04330b9337710bc5b3e64"
            ],
            "layout": "IPY_MODEL_d141533902124e109f5b89bf6db72195"
          }
        },
        "ee5ad55d994a4515ade104bd009721e6": {
          "model_module": "@jupyter-widgets/controls",
          "model_name": "HTMLModel",
          "model_module_version": "1.5.0",
          "state": {
            "_dom_classes": [],
            "_model_module": "@jupyter-widgets/controls",
            "_model_module_version": "1.5.0",
            "_model_name": "HTMLModel",
            "_view_count": null,
            "_view_module": "@jupyter-widgets/controls",
            "_view_module_version": "1.5.0",
            "_view_name": "HTMLView",
            "description": "",
            "description_tooltip": null,
            "layout": "IPY_MODEL_1341aadde53b4c39af9460f68583d7f6",
            "placeholder": "​",
            "style": "IPY_MODEL_6bd4d21da2574b29b5c18204e90986b1",
            "value": ""
          }
        },
        "8f9fc4be913f4fbfb45032a0d9b9e177": {
          "model_module": "@jupyter-widgets/controls",
          "model_name": "FloatProgressModel",
          "model_module_version": "1.5.0",
          "state": {
            "_dom_classes": [],
            "_model_module": "@jupyter-widgets/controls",
            "_model_module_version": "1.5.0",
            "_model_name": "FloatProgressModel",
            "_view_count": null,
            "_view_module": "@jupyter-widgets/controls",
            "_view_module_version": "1.5.0",
            "_view_name": "ProgressView",
            "bar_style": "success",
            "description": "",
            "description_tooltip": null,
            "layout": "IPY_MODEL_f7bcd87efb20400a8dabe5a859130717",
            "max": 1,
            "min": 0,
            "orientation": "horizontal",
            "style": "IPY_MODEL_4e566c9b5bd141389f1e5016e0c1cbd9",
            "value": 1
          }
        },
        "b208aacfc3a04330b9337710bc5b3e64": {
          "model_module": "@jupyter-widgets/controls",
          "model_name": "HTMLModel",
          "model_module_version": "1.5.0",
          "state": {
            "_dom_classes": [],
            "_model_module": "@jupyter-widgets/controls",
            "_model_module_version": "1.5.0",
            "_model_name": "HTMLModel",
            "_view_count": null,
            "_view_module": "@jupyter-widgets/controls",
            "_view_module_version": "1.5.0",
            "_view_name": "HTMLView",
            "description": "",
            "description_tooltip": null,
            "layout": "IPY_MODEL_efa629b12fd24dad9f12d7c8d94148a3",
            "placeholder": "​",
            "style": "IPY_MODEL_3e3d49fe22004ac18c520020cf16ef87",
            "value": " 191814/? [08:36&lt;00:00, 370.47it/s]"
          }
        },
        "d141533902124e109f5b89bf6db72195": {
          "model_module": "@jupyter-widgets/base",
          "model_name": "LayoutModel",
          "model_module_version": "1.2.0",
          "state": {
            "_model_module": "@jupyter-widgets/base",
            "_model_module_version": "1.2.0",
            "_model_name": "LayoutModel",
            "_view_count": null,
            "_view_module": "@jupyter-widgets/base",
            "_view_module_version": "1.2.0",
            "_view_name": "LayoutView",
            "align_content": null,
            "align_items": null,
            "align_self": null,
            "border": null,
            "bottom": null,
            "display": null,
            "flex": null,
            "flex_flow": null,
            "grid_area": null,
            "grid_auto_columns": null,
            "grid_auto_flow": null,
            "grid_auto_rows": null,
            "grid_column": null,
            "grid_gap": null,
            "grid_row": null,
            "grid_template_areas": null,
            "grid_template_columns": null,
            "grid_template_rows": null,
            "height": null,
            "justify_content": null,
            "justify_items": null,
            "left": null,
            "margin": null,
            "max_height": null,
            "max_width": null,
            "min_height": null,
            "min_width": null,
            "object_fit": null,
            "object_position": null,
            "order": null,
            "overflow": null,
            "overflow_x": null,
            "overflow_y": null,
            "padding": null,
            "right": null,
            "top": null,
            "visibility": null,
            "width": null
          }
        },
        "1341aadde53b4c39af9460f68583d7f6": {
          "model_module": "@jupyter-widgets/base",
          "model_name": "LayoutModel",
          "model_module_version": "1.2.0",
          "state": {
            "_model_module": "@jupyter-widgets/base",
            "_model_module_version": "1.2.0",
            "_model_name": "LayoutModel",
            "_view_count": null,
            "_view_module": "@jupyter-widgets/base",
            "_view_module_version": "1.2.0",
            "_view_name": "LayoutView",
            "align_content": null,
            "align_items": null,
            "align_self": null,
            "border": null,
            "bottom": null,
            "display": null,
            "flex": null,
            "flex_flow": null,
            "grid_area": null,
            "grid_auto_columns": null,
            "grid_auto_flow": null,
            "grid_auto_rows": null,
            "grid_column": null,
            "grid_gap": null,
            "grid_row": null,
            "grid_template_areas": null,
            "grid_template_columns": null,
            "grid_template_rows": null,
            "height": null,
            "justify_content": null,
            "justify_items": null,
            "left": null,
            "margin": null,
            "max_height": null,
            "max_width": null,
            "min_height": null,
            "min_width": null,
            "object_fit": null,
            "object_position": null,
            "order": null,
            "overflow": null,
            "overflow_x": null,
            "overflow_y": null,
            "padding": null,
            "right": null,
            "top": null,
            "visibility": null,
            "width": null
          }
        },
        "6bd4d21da2574b29b5c18204e90986b1": {
          "model_module": "@jupyter-widgets/controls",
          "model_name": "DescriptionStyleModel",
          "model_module_version": "1.5.0",
          "state": {
            "_model_module": "@jupyter-widgets/controls",
            "_model_module_version": "1.5.0",
            "_model_name": "DescriptionStyleModel",
            "_view_count": null,
            "_view_module": "@jupyter-widgets/base",
            "_view_module_version": "1.2.0",
            "_view_name": "StyleView",
            "description_width": ""
          }
        },
        "f7bcd87efb20400a8dabe5a859130717": {
          "model_module": "@jupyter-widgets/base",
          "model_name": "LayoutModel",
          "model_module_version": "1.2.0",
          "state": {
            "_model_module": "@jupyter-widgets/base",
            "_model_module_version": "1.2.0",
            "_model_name": "LayoutModel",
            "_view_count": null,
            "_view_module": "@jupyter-widgets/base",
            "_view_module_version": "1.2.0",
            "_view_name": "LayoutView",
            "align_content": null,
            "align_items": null,
            "align_self": null,
            "border": null,
            "bottom": null,
            "display": null,
            "flex": null,
            "flex_flow": null,
            "grid_area": null,
            "grid_auto_columns": null,
            "grid_auto_flow": null,
            "grid_auto_rows": null,
            "grid_column": null,
            "grid_gap": null,
            "grid_row": null,
            "grid_template_areas": null,
            "grid_template_columns": null,
            "grid_template_rows": null,
            "height": null,
            "justify_content": null,
            "justify_items": null,
            "left": null,
            "margin": null,
            "max_height": null,
            "max_width": null,
            "min_height": null,
            "min_width": null,
            "object_fit": null,
            "object_position": null,
            "order": null,
            "overflow": null,
            "overflow_x": null,
            "overflow_y": null,
            "padding": null,
            "right": null,
            "top": null,
            "visibility": null,
            "width": "20px"
          }
        },
        "4e566c9b5bd141389f1e5016e0c1cbd9": {
          "model_module": "@jupyter-widgets/controls",
          "model_name": "ProgressStyleModel",
          "model_module_version": "1.5.0",
          "state": {
            "_model_module": "@jupyter-widgets/controls",
            "_model_module_version": "1.5.0",
            "_model_name": "ProgressStyleModel",
            "_view_count": null,
            "_view_module": "@jupyter-widgets/base",
            "_view_module_version": "1.2.0",
            "_view_name": "StyleView",
            "bar_color": null,
            "description_width": ""
          }
        },
        "efa629b12fd24dad9f12d7c8d94148a3": {
          "model_module": "@jupyter-widgets/base",
          "model_name": "LayoutModel",
          "model_module_version": "1.2.0",
          "state": {
            "_model_module": "@jupyter-widgets/base",
            "_model_module_version": "1.2.0",
            "_model_name": "LayoutModel",
            "_view_count": null,
            "_view_module": "@jupyter-widgets/base",
            "_view_module_version": "1.2.0",
            "_view_name": "LayoutView",
            "align_content": null,
            "align_items": null,
            "align_self": null,
            "border": null,
            "bottom": null,
            "display": null,
            "flex": null,
            "flex_flow": null,
            "grid_area": null,
            "grid_auto_columns": null,
            "grid_auto_flow": null,
            "grid_auto_rows": null,
            "grid_column": null,
            "grid_gap": null,
            "grid_row": null,
            "grid_template_areas": null,
            "grid_template_columns": null,
            "grid_template_rows": null,
            "height": null,
            "justify_content": null,
            "justify_items": null,
            "left": null,
            "margin": null,
            "max_height": null,
            "max_width": null,
            "min_height": null,
            "min_width": null,
            "object_fit": null,
            "object_position": null,
            "order": null,
            "overflow": null,
            "overflow_x": null,
            "overflow_y": null,
            "padding": null,
            "right": null,
            "top": null,
            "visibility": null,
            "width": null
          }
        },
        "3e3d49fe22004ac18c520020cf16ef87": {
          "model_module": "@jupyter-widgets/controls",
          "model_name": "DescriptionStyleModel",
          "model_module_version": "1.5.0",
          "state": {
            "_model_module": "@jupyter-widgets/controls",
            "_model_module_version": "1.5.0",
            "_model_name": "DescriptionStyleModel",
            "_view_count": null,
            "_view_module": "@jupyter-widgets/base",
            "_view_module_version": "1.2.0",
            "_view_name": "StyleView",
            "description_width": ""
          }
        }
      }
    }
  },
  "cells": [
    {
      "cell_type": "markdown",
      "metadata": {
        "id": "view-in-github",
        "colab_type": "text"
      },
      "source": [
        "<a href=\"https://colab.research.google.com/github/nixtasy/music-search/blob/main/Payload_and_vector_prep.ipynb\" target=\"_parent\"><img src=\"https://colab.research.google.com/assets/colab-badge.svg\" alt=\"Open In Colab\"/></a>"
      ]
    },
    {
      "cell_type": "code",
      "execution_count": null,
      "metadata": {
        "id": "qvZ2vDqRwrtP"
      },
      "outputs": [],
      "source": [
        "# Additional dataset which contains rich metadata of songs, incl. emotion features\n",
        "# Could be potentially used for distant supervision\n",
        "# !wget https://prod-dcd-datasets-cache-zipfiles.s3.eu-west-1.amazonaws.com/3t9vbwxgr5-3.zip\n",
        "# !unzip 3t9vbwxgr5-3.zip"
      ]
    },
    {
      "cell_type": "code",
      "source": [
        "# We use SentenceTransformer pre-trained models to convert our text into vectors.\n",
        "!pip install sentence-transformers\n",
        "!pip install qdrant-client>=1.1.1\n",
        "!pip install sentence-transformers numpy"
      ],
      "metadata": {
        "id": "RWzSSFdgO0xT"
      },
      "execution_count": null,
      "outputs": []
    },
    {
      "cell_type": "code",
      "source": [
        "import pandas as pd\n",
        "import os.path as osp\n",
        "import json\n",
        "from sentence_transformers import SentenceTransformer\n",
        "import numpy as np\n",
        "from tqdm.notebook import tqdm"
      ],
      "metadata": {
        "id": "Dbe_QezAxp8T"
      },
      "execution_count": null,
      "outputs": []
    },
    {
      "cell_type": "code",
      "source": [
        "src = \"dir-to-dataset-Vagalume\"\n",
        "LYRICS = pd.read_csv(osp.join(src,\"lyrics-data.csv\"))\n",
        "ARTISTS = pd.read_csv(osp.join(src,\"artists-data.csv\"))\n",
        "VECTORS = np.load(osp.join(src,\"lyrics-vectors-all-MiniLM-L12-v2.npy\"))\n",
        "# LYRICS.columns : 'ALink', 'SName', 'SLink', 'Lyric', 'language'\n",
        "# ARTISTS.columns : 'Artist', 'Genres', 'Songs', 'Popularity', 'Link'"
      ],
      "metadata": {
        "id": "ipSD3YVS4tJy"
      },
      "execution_count": null,
      "outputs": []
    },
    {
      "cell_type": "code",
      "source": [
        "# Query all tracks of an artist if in the dataset\n",
        "# a_name = \"Lady Gaga\"\n",
        "# if a_name in set(ARTISTS['Artist']):\n",
        "#   print(LYRICS.loc[LYRICS.SName == \"Bad Romance\"].head())"
      ],
      "metadata": {
        "id": "oZsr8CtjKtm9"
      },
      "execution_count": null,
      "outputs": []
    },
    {
      "cell_type": "code",
      "source": [
        "# Langs in the dataset:\n",
        "# 'ny', 'sw', 'fi', 'ht', 'gd', 'sl', 'pt', 'sv', 'zh', 'hu', nan, 'lv', 'mg', 'tl', 'vi', 'de', 'en', 'ko', 'et', 'id', 'ku', 'is', 'lg', 'cy', \n",
        "# 'fr', 'ga', 'ms', 'rw', 'hmn', 'ru', 'no', 'sq', 'ro', 'cs', 'hr', 'es', 'it', 'iw', 'eu', 'jw', 'su', 'nl', 'ar', 'fa', 'af', 'gl', 'da', 'sr', 'pl', 'ca', 'st', 'tr', 'ja'\n",
        "# print(list(set(LYRICS['language'])))\n",
        "# lang_list = list(set(LYRICS['language']))\n",
        "LYRICS['language'].value_counts()[:20].plot(kind='barh')"
      ],
      "metadata": {
        "id": "OqmBQWeizPFk"
      },
      "execution_count": null,
      "outputs": []
    },
    {
      "cell_type": "code",
      "source": [
        "# Creating a english subset of 191814 instances\n",
        "EN_LYRICS = LYRICS.loc[LYRICS.language == 'en',['ALink', 'SName', 'SLink', 'Lyric']]"
      ],
      "metadata": {
        "id": "9ELxdXtkOTc5"
      },
      "execution_count": null,
      "outputs": []
    },
    {
      "cell_type": "code",
      "source": [
        "EN_LYRICS.head()"
      ],
      "metadata": {
        "id": "fwh2bMih6xDg"
      },
      "execution_count": null,
      "outputs": []
    },
    {
      "cell_type": "code",
      "source": [
        "en_subset = pd.merge(EN_LYRICS, ARTISTS, how=\"left\", left_on=\"ALink\", right_on=\"Link\").drop(columns=['Genres',\t'Songs',\t'Popularity',\t'Link']).reset_index(drop=True)"
      ],
      "metadata": {
        "id": "tyG0NzKO4jFD"
      },
      "execution_count": null,
      "outputs": []
    },
    {
      "cell_type": "code",
      "source": [
        "with open('lyrics_payloads.json', 'w') as f:\n",
        "  f.write(en_subset.to_json(orient=\"records\", lines=True))"
      ],
      "metadata": {
        "id": "ZrrbsD4w64Cy"
      },
      "execution_count": null,
      "outputs": []
    },
    {
      "cell_type": "code",
      "source": [
        "df = pd.read_json('./lyrics_payloads.json', lines=True)"
      ],
      "metadata": {
        "id": "P67n6ZQE8185"
      },
      "execution_count": null,
      "outputs": []
    },
    {
      "cell_type": "code",
      "source": [
        "# Full list of available models could be found here https://www.sbert.net/docs/pretrained_models.html\n",
        "# model = SentenceTransformer('distilbert-base-nli-stsb-mean-tokens', device=\"cuda\")\n",
        "model = SentenceTransformer('all-MiniLM-L12-v2', device=\"cuda\")"
      ],
      "metadata": {
        "id": "jkC93Ij1WJXa"
      },
      "execution_count": null,
      "outputs": []
    },
    {
      "cell_type": "code",
      "source": [
        "# Here we encode all lyrics\n",
        "# We do encoding in batches, as this reduces overhead costs and significantly speeds up the process\n",
        "# vectors = []\n",
        "# batch_size = 64\n",
        "# batch = []\n",
        "# for row in tqdm(EN_LYRICS.itertuples()):\n",
        "#   content = str(row.SName) + \"\\n\" + str(row.Lyric)\n",
        "#   batch.append(content)\n",
        "#   if len(batch) >= batch_size:\n",
        "#     vectors.append(model.encode(batch))  # Text -> vector encoding happens here\n",
        "#     batch = []\n",
        "\n",
        "# if len(batch) > 0:\n",
        "#   vectors.append(model.encode(batch))\n",
        "#   batch = []\n",
        "\n",
        "# vectors = np.concatenate(vectors)"
      ],
      "metadata": {
        "colab": {
          "base_uri": "https://localhost:8080/",
          "height": 49,
          "referenced_widgets": [
            "a62175a1fb4f44ad85c309d59ea9f398",
            "ee5ad55d994a4515ade104bd009721e6",
            "8f9fc4be913f4fbfb45032a0d9b9e177",
            "b208aacfc3a04330b9337710bc5b3e64",
            "d141533902124e109f5b89bf6db72195",
            "1341aadde53b4c39af9460f68583d7f6",
            "6bd4d21da2574b29b5c18204e90986b1",
            "f7bcd87efb20400a8dabe5a859130717",
            "4e566c9b5bd141389f1e5016e0c1cbd9",
            "efa629b12fd24dad9f12d7c8d94148a3",
            "3e3d49fe22004ac18c520020cf16ef87"
          ]
        },
        "id": "FjTEwAvwUeie",
        "outputId": "4c161332-bad9-4ebc-c835-96e2b89ebc60"
      },
      "execution_count": null,
      "outputs": [
        {
          "output_type": "display_data",
          "data": {
            "text/plain": [
              "0it [00:00, ?it/s]"
            ],
            "application/vnd.jupyter.widget-view+json": {
              "version_major": 2,
              "version_minor": 0,
              "model_id": "a62175a1fb4f44ad85c309d59ea9f398"
            }
          },
          "metadata": {}
        }
      ]
    },
    {
      "cell_type": "code",
      "source": [
        "# Now we have all our descriptions converted into vectors.\n",
        "# We have 191814 vectors of 384 dimentions. The output layer of the model has this dimension\n",
        "# vectors.shape"
      ],
      "metadata": {
        "colab": {
          "base_uri": "https://localhost:8080/"
        },
        "id": "p78n7K7qUkK0",
        "outputId": "86ee3712-cf1f-487c-c6df-316ea499c743"
      },
      "execution_count": null,
      "outputs": [
        {
          "output_type": "execute_result",
          "data": {
            "text/plain": [
              "(191814, 384)"
            ]
          },
          "metadata": {},
          "execution_count": 132
        }
      ]
    },
    {
      "cell_type": "code",
      "source": [
        "# You can download this saved vectors and continue with rest part of the tutorial.\n",
        "# np.save('vectors2.npy', vectors, allow_pickle=False)"
      ],
      "metadata": {
        "id": "wSiJr1DZUmI1"
      },
      "execution_count": null,
      "outputs": []
    },
    {
      "cell_type": "code",
      "source": [
        "from sklearn.metrics.pairwise import cosine_similarity"
      ],
      "metadata": {
        "id": "17Wcq_7TbBbd"
      },
      "execution_count": null,
      "outputs": []
    },
    {
      "cell_type": "code",
      "source": [
        "df.iloc[12345]"
      ],
      "metadata": {
        "colab": {
          "base_uri": "https://localhost:8080/"
        },
        "id": "YPQrkiR13CXi",
        "outputId": "eecf9e36-2a18-41bc-8807-e40f0f6646c1"
      },
      "execution_count": null,
      "outputs": [
        {
          "output_type": "execute_result",
          "data": {
            "text/plain": [
              "ALink                                        /eric-clapton/\n",
              "SName                                   Hoochie Coochie Man\n",
              "SLink                /eric-clapton/hoochie-coochie-man.html\n",
              "Lyric     Gypsy woman told my mother 'fore I was born\\nY...\n",
              "Artist                                         Eric Clapton\n",
              "Name: 12345, dtype: object"
            ]
          },
          "metadata": {},
          "execution_count": 46
        }
      ]
    },
    {
      "cell_type": "code",
      "source": [
        "# Take a random description as a query\n",
        "sample_query = df.iloc[12345].Lyric\n",
        "print(sample_query.split('\\n')[0])\n",
        "# sample_query = \"i feel gloomy coz the weather is like shit\""
      ],
      "metadata": {
        "id": "lVwKnp-pbFjE",
        "colab": {
          "base_uri": "https://localhost:8080/"
        },
        "outputId": "0ac9f349-5c6b-4a7d-9caf-db4749aa9e3b"
      },
      "execution_count": null,
      "outputs": [
        {
          "output_type": "stream",
          "name": "stdout",
          "text": [
            "Gypsy woman told my mother 'fore I was born\n"
          ]
        }
      ]
    },
    {
      "cell_type": "code",
      "source": [
        "query_vector = model.encode(sample_query)  # Convert query description into a vector."
      ],
      "metadata": {
        "id": "lbavbpIebZdm"
      },
      "execution_count": null,
      "outputs": []
    },
    {
      "cell_type": "code",
      "source": [
        "scores = cosine_similarity([query_vector], VECTORS)[0]  # Look for the most similar vectors, manually score all vectors\n",
        "top_scores_ids = np.argsort(scores)[-5:][::-1]  # Select top-5 with vectors the largest scores"
      ],
      "metadata": {
        "id": "QYuSnkl9bd25"
      },
      "execution_count": null,
      "outputs": []
    },
    {
      "cell_type": "code",
      "source": [
        "# Check if result similar to the query\n",
        "for top_id in top_scores_ids:\n",
        "  print(\"####\"+df.iloc[top_id].SName+\"####\")\n",
        "  print(df.iloc[top_id].Lyric)\n",
        "  print(\"-----\")"
      ],
      "metadata": {
        "id": "BCdQV_XNbjE-"
      },
      "execution_count": null,
      "outputs": []
    },
    {
      "cell_type": "code",
      "source": [
        "# test on local machine\n",
        "from qdrant_client import models, QdrantClient\n",
        "from qdrant_client.models import VectorParams, Distance\n",
        "# qdrant_client = QdrantClient(host='localhost', port=6333)\n",
        "qdrant_client = QdrantClient(\":memory:\")"
      ],
      "metadata": {
        "id": "OhaWuHrTkPBF"
      },
      "execution_count": null,
      "outputs": []
    },
    {
      "cell_type": "code",
      "source": [
        "qdrant_client.recreate_collection(\n",
        "    collection_name='lyrics', \n",
        "    vectors_config=VectorParams(size=384, distance=Distance.COSINE),\n",
        ")"
      ],
      "metadata": {
        "id": "ta4BFFF8kVJ5",
        "colab": {
          "base_uri": "https://localhost:8080/"
        },
        "outputId": "c59360f0-2e89-4e31-ebb1-21f346fe1d73"
      },
      "execution_count": null,
      "outputs": [
        {
          "output_type": "execute_result",
          "data": {
            "text/plain": [
              "True"
            ]
          },
          "metadata": {},
          "execution_count": 56
        }
      ]
    },
    {
      "cell_type": "code",
      "source": [
        "import numpy as np\n",
        "import json\n",
        "\n",
        "fd = open('./lyrics_payloads.json')\n",
        "\n",
        "# payload is now an iterator over startup data\n",
        "payload = map(json.loads, fd)\n",
        "\n",
        "# Here we load all vectors into memory, numpy array works as iterable for itself.\n",
        "# Other option would be to use Mmap, if we don't want to load all data into RAM\n",
        "vectors = VECTORS"
      ],
      "metadata": {
        "id": "xn5G1uE_kYpJ"
      },
      "execution_count": null,
      "outputs": []
    },
    {
      "cell_type": "code",
      "source": [
        "qdrant_client.upload_collection(\n",
        "    collection_name='lyrics',\n",
        "    vectors=vectors,\n",
        "    payload=payload,\n",
        "    ids=None,  # Vector ids will be assigned automatically\n",
        "    batch_size=256  # How many vectors will be uploaded in a single request?\n",
        ")"
      ],
      "metadata": {
        "id": "TKI7U8U1kZv3"
      },
      "execution_count": null,
      "outputs": []
    },
    {
      "cell_type": "code",
      "source": [
        "hits = qdrant_client.search(\n",
        "    collection_name=\"lyrics\",\n",
        "    query_vector=model.encode(\"Aliens attack our planet\").tolist(),\n",
        "    limit=3\n",
        ")\n",
        "for hit in hits:\n",
        "  print(hit.payload, \"score:\", hit.score)"
      ],
      "metadata": {
        "colab": {
          "base_uri": "https://localhost:8080/"
        },
        "id": "qh_c-feNCWdR",
        "outputId": "f5e3370c-934b-49aa-ec5e-264d7382494a"
      },
      "execution_count": null,
      "outputs": [
        {
          "output_type": "stream",
          "name": "stdout",
          "text": [
            "{'ALink': '/misfits/', 'SName': 'Mars Attacks', 'SLink': '/misfits/mars-attacks.html', 'Lyric': 'Their eyes for many centuries\\nPeered in from space\\nSincere the hope, their wise believed\\nThey could teach our race\\n\\nBut yet on Mars, a darker side\\nLike all things that God made\\nTheir tribe of war, would heed them not\\n\"Earth they must invade\"\\n\\nSee: the fire in the skies\\nSee: them devastate the land\\nMars attacks: the warlord chief commands\\n\\nSee: the humans fight and die\\nSee: our planet laid to waste\\nMars attacks: monsters invade the earth from space\\n\\nIt was then, in our darkest hour\\nWhen everything seemed lost\\nThe hearts of men would not concede\\nNo mctter what the cost\\n\\nThey forged a sword of sound and steel\\nUpon the Martian doors\\nThe voice of war would thunder there\\nAnd \"Mars would be no more\"\\n\\nSee: the Martian cities fall\\nSee: the death of the warrior tribe\\nMars attacks, now their planet won\\'t survive\\n\\nSee: their world turn into ash\\nSee: the terror on their face\\nMars explodes, cast out as rubble into space\\n\\nWoah-oh, oh, oh\\nWoah-oh, oh, oh\\nMars Attacks: monsters invade the earth from space\\n\\nWoah-oh, oh, oh\\nWoah-oh, oh, oh\\nWoah-oh, oh, oh\\n', 'Artist': 'Misfits'} score: 0.5685470018670902\n",
            "{'ALink': '/misfits/', 'SName': 'Mars Attacks (demo version)', 'SLink': '/misfits/mars-attacks-demo-version.html', 'Lyric': 'Their eyes for many centuries\\nPeered in from space\\nSincere the hope, their wise believed\\nThey could teach our race\\n\\nBut yet on Mars, a darker side\\nLike all things that God made\\nTheir tribe of war, would heed them not\\n\"Earth they must invade\"\\n\\nSee: the fire in the skies\\nSee: them devastate the land\\nMars attacks: the warlord chief commands\\n\\nSee: the humans fight and die\\nSee: our planet laid to waste\\nMars attacks: monsters invade the earth from space\\n\\nIt was then, in our darkest hour\\nWhen everything seemed lost\\nThe hearts of men would not concede\\nNo matter what the cost\\n\\nThey forged a sword of sound and steel\\nUpon the Martian doors\\nThe voice of war would thunder there\\nAnd \"Mars would be no more\"\\n\\nSee: the Martian cities fall\\nSee: the death of the warrior tribe\\nMars attacks, now their planet won\\'t survive\\n\\nSee: their world turn into ash\\nSee: the terror on their face\\nMars explodes, cast out as rubble into space\\n\\nWoah-oh, oh, oh\\nWoah-oh, oh, oh\\nMars Attacks: monsters invade the earth from space\\n\\nWoah-oh, oh, oh\\nWoah-oh, oh, oh\\nWoah-oh, oh, oh\\n', 'Artist': 'Misfits'} score: 0.5660785483890303\n",
            "{'ALink': '/dr-sin/', 'SName': \"We're Not Alone\", 'SLink': '/dr-sin/were-not-alone.html', 'Lyric': \"I look up to the sky\\nWhat a scary sight!\\nFormations of lights\\nShinning into the night\\n\\nNow I know\\nWe are not alone\\nAnd I don't know\\nIf it's right or wrong!\\nInvading our space\\nLeaving no trace!\\nAliens\\nIn our world!\\nAliens\\nWe're not alone!\\n\\nI think we'd better pray\\nWe`re such an easy prey!\\nAliens are coming\\nAre they white or grey?\\nAliens\\nIn our world!\\nAliens\\nWe're not alone!\\n\\nWill they come in piece?\\nDo they mean no harm?\\nShould we be pleased or prepare to war?\\nAliens\\nIn our world!\\nAliens\\nWe're not alone!\\nAliens, aliens, aliens, aliens\", 'Artist': 'Dr. Sin'} score: 0.5533026236528736\n"
          ]
        }
      ]
    }
  ]
}